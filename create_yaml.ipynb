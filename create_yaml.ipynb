{
 "cells": [
  {
   "cell_type": "code",
   "execution_count": null,
   "id": "e5325943",
   "metadata": {},
   "outputs": [],
   "source": [
    "import pandas as pd\n",
    "import json\n",
    "import os\n",
    "import string\n",
    "import ast\n",
    "import random"
   ]
  },
  {
   "cell_type": "code",
   "execution_count": null,
   "id": "b77d5025",
   "metadata": {},
   "outputs": [],
   "source": [
    "df_p = pd.read_csv('positive_steroids_2025-07-01.csv')\n",
    "df_n = pd.read_csv('negative_centroids_2025-07-01.csv')\n",
    "df_p.dropna(subset=['SMILES'], inplace=True)"
   ]
  },
  {
   "cell_type": "markdown",
   "id": "e0cc80b2",
   "metadata": {},
   "source": [
    "### Dictionary of Steroids from the positive dataset."
   ]
  },
  {
   "cell_type": "code",
   "execution_count": null,
   "id": "3e05cd45",
   "metadata": {},
   "outputs": [],
   "source": [
    "df_p['SMILES'] = df_p['SMILES'].apply(lambda x: [y.strip() for y in x.split(\";\")])\n",
    "df_p['ChEBI ID'] = df_p['ChEBI ID'].apply(lambda x: [y.strip() for y in x.split(\";\")])\n",
    "\n",
    "smiles_list = df_p['SMILES']\n",
    "chebi_list = df_p['ChEBI ID']\n",
    "smiles = []\n",
    "chebi = []\n",
    "\n",
    "for s,c in zip(smiles_list, chebi_list):\n",
    "    if len(c) == len(s):\n",
    "        chebi.extend(c)\n",
    "        smiles.extend(s)\n",
    "\n",
    "unique_smiles = len(list(set(smiles)))\n",
    "print(\"Unique SMILES:\", unique_smiles)\n",
    "\n",
    "unique_chebi = len(list(set(chebi)))\n",
    "print(\"Unique ChEBI IDs:\", unique_chebi)"
   ]
  }
 ],
 "metadata": {
  "language_info": {
   "name": "python"
  }
 },
 "nbformat": 4,
 "nbformat_minor": 5
}
